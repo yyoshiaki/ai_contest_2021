{
 "cells": [
  {
   "cell_type": "code",
   "execution_count": 35,
   "id": "blind-brisbane",
   "metadata": {},
   "outputs": [],
   "source": [
    "import os\n",
    "import yaml\n",
    "import sys \n",
    "\n",
    "from pickle import dump\n",
    "from pickle import load\n",
    "\n",
    "import numpy as np\n",
    "import pandas as pd\n",
    "import matplotlib.pyplot as plt\n",
    "import seaborn as sns\n",
    "\n",
    "from sklearn.impute import SimpleImputer\n",
    "# from sklearn.model_selection import KFold\n",
    "# from sklearn.model_selection import train_test_split\n",
    "from sklearn.model_selection import ShuffleSplit\n",
    "from sklearn.model_selection import StratifiedShuffleSplit\n",
    "\n",
    "import torch\n",
    "import torch.nn as nn\n",
    "import torch.nn.functional as F\n",
    "from torch.nn import Parameter\n",
    "import math\n",
    "from torch.nn.modules.loss import _WeightedLoss\n",
    "from torch.utils.tensorboard import SummaryWriter\n",
    "\n",
    "import optuna\n",
    "import joblib\n",
    "\n",
    "from sklearn.metrics import roc_auc_score\n",
    "\n",
    "import cv2\n",
    "\n",
    "from tqdm import tqdm"
   ]
  },
  {
   "cell_type": "code",
   "execution_count": 2,
   "id": "regional-malawi",
   "metadata": {},
   "outputs": [],
   "source": [
    "# ライブラリ読み込み\n",
    "import numpy as np\n",
    "import pandas as pd\n",
    "import matplotlib.pyplot as plt\n",
    "import seaborn as sns\n",
    "import os, glob, pickle, time, gc, copy, sys\n",
    "\n",
    "import warnings\n",
    "from sklearn.model_selection import StratifiedKFold\n",
    "from sklearn import metrics\n",
    "import tensorflow as tf\n",
    "AUTOTUNE = tf.data.experimental.AUTOTUNE\n",
    "\n",
    "warnings.filterwarnings('ignore')\n",
    "pd.set_option('display.max_columns', 100) # 表示できる表の列数"
   ]
  },
  {
   "cell_type": "code",
   "execution_count": 3,
   "id": "effective-pulse",
   "metadata": {},
   "outputs": [
    {
     "name": "stdout",
     "output_type": "stream",
     "text": [
      "cuda:0\n"
     ]
    }
   ],
   "source": [
    "optimizer_name = 'Adam'\n",
    "lr = 0.0007\n",
    "patience = 500\n",
    "EPOCHS = 5000000\n",
    "input_size = 200\n",
    "n_splits = 5\n",
    "verbose = True\n",
    "\n",
    "device = torch.device(\"cuda:0\" if torch.cuda.is_available() else \"cpu\")\n",
    "print(device)"
   ]
  },
  {
   "cell_type": "code",
   "execution_count": 4,
   "id": "fleet-domestic",
   "metadata": {},
   "outputs": [],
   "source": [
    "col_target = 'target'"
   ]
  },
  {
   "cell_type": "code",
   "execution_count": 5,
   "id": "dated-definition",
   "metadata": {},
   "outputs": [
    {
     "name": "stdout",
     "output_type": "stream",
     "text": [
      "df_train.shape (2000, 5)\n"
     ]
    },
    {
     "data": {
      "text/html": [
       "<div>\n",
       "<style scoped>\n",
       "    .dataframe tbody tr th:only-of-type {\n",
       "        vertical-align: middle;\n",
       "    }\n",
       "\n",
       "    .dataframe tbody tr th {\n",
       "        vertical-align: top;\n",
       "    }\n",
       "\n",
       "    .dataframe thead th {\n",
       "        text-align: right;\n",
       "    }\n",
       "</style>\n",
       "<table border=\"1\" class=\"dataframe\">\n",
       "  <thead>\n",
       "    <tr style=\"text-align: right;\">\n",
       "      <th></th>\n",
       "      <th>Id</th>\n",
       "      <th>target</th>\n",
       "      <th>age</th>\n",
       "      <th>sex</th>\n",
       "      <th>label_type</th>\n",
       "    </tr>\n",
       "  </thead>\n",
       "  <tbody>\n",
       "    <tr>\n",
       "      <th>0</th>\n",
       "      <td>81ac15cb8d3be42e3d0ccdea36176183</td>\n",
       "      <td>1</td>\n",
       "      <td>80</td>\n",
       "      <td>female</td>\n",
       "      <td>human</td>\n",
       "    </tr>\n",
       "    <tr>\n",
       "      <th>1</th>\n",
       "      <td>92a68a851f4686e2a4ddf99304f307d4</td>\n",
       "      <td>0</td>\n",
       "      <td>59</td>\n",
       "      <td>male</td>\n",
       "      <td>auto</td>\n",
       "    </tr>\n",
       "    <tr>\n",
       "      <th>2</th>\n",
       "      <td>076d002b3c47e54fff4985b0875e0890</td>\n",
       "      <td>0</td>\n",
       "      <td>29</td>\n",
       "      <td>male</td>\n",
       "      <td>human</td>\n",
       "    </tr>\n",
       "    <tr>\n",
       "      <th>3</th>\n",
       "      <td>0460976b5de525addbf73d0971145146</td>\n",
       "      <td>1</td>\n",
       "      <td>59</td>\n",
       "      <td>male</td>\n",
       "      <td>auto</td>\n",
       "    </tr>\n",
       "    <tr>\n",
       "      <th>4</th>\n",
       "      <td>13ac4608f13ffbca4ceb2d49179930a8</td>\n",
       "      <td>0</td>\n",
       "      <td>75</td>\n",
       "      <td>male</td>\n",
       "      <td>human</td>\n",
       "    </tr>\n",
       "  </tbody>\n",
       "</table>\n",
       "</div>"
      ],
      "text/plain": [
       "                                 Id  target  age     sex label_type\n",
       "0  81ac15cb8d3be42e3d0ccdea36176183       1   80  female      human\n",
       "1  92a68a851f4686e2a4ddf99304f307d4       0   59    male       auto\n",
       "2  076d002b3c47e54fff4985b0875e0890       0   29    male      human\n",
       "3  0460976b5de525addbf73d0971145146       1   59    male       auto\n",
       "4  13ac4608f13ffbca4ceb2d49179930a8       0   75    male      human"
      ]
     },
     "execution_count": 5,
     "metadata": {},
     "output_type": "execute_result"
    }
   ],
   "source": [
    "# trainファイルを読み込む\n",
    "df_train = pd.read_csv(\"../input/ai-medical-contest-2021/train.csv\")\n",
    "print(\"df_train.shape\", df_train.shape) # シェイプ = (行数, 列数)を表示する\n",
    "df_train.head() # 先頭5行を表示する"
   ]
  },
  {
   "cell_type": "code",
   "execution_count": 6,
   "id": "binary-pipeline",
   "metadata": {},
   "outputs": [
    {
     "name": "stdout",
     "output_type": "stream",
     "text": [
      "df_test.shape (8000, 4)\n"
     ]
    },
    {
     "data": {
      "text/html": [
       "<div>\n",
       "<style scoped>\n",
       "    .dataframe tbody tr th:only-of-type {\n",
       "        vertical-align: middle;\n",
       "    }\n",
       "\n",
       "    .dataframe tbody tr th {\n",
       "        vertical-align: top;\n",
       "    }\n",
       "\n",
       "    .dataframe thead th {\n",
       "        text-align: right;\n",
       "    }\n",
       "</style>\n",
       "<table border=\"1\" class=\"dataframe\">\n",
       "  <thead>\n",
       "    <tr style=\"text-align: right;\">\n",
       "      <th></th>\n",
       "      <th>Id</th>\n",
       "      <th>age</th>\n",
       "      <th>sex</th>\n",
       "      <th>label_type</th>\n",
       "    </tr>\n",
       "  </thead>\n",
       "  <tbody>\n",
       "    <tr>\n",
       "      <th>0</th>\n",
       "      <td>eee45832964560ae45040cbc95a252e7</td>\n",
       "      <td>72</td>\n",
       "      <td>female</td>\n",
       "      <td>human</td>\n",
       "    </tr>\n",
       "    <tr>\n",
       "      <th>1</th>\n",
       "      <td>6a9adde92c964bd844ddeb12bf559130</td>\n",
       "      <td>76</td>\n",
       "      <td>female</td>\n",
       "      <td>human</td>\n",
       "    </tr>\n",
       "    <tr>\n",
       "      <th>2</th>\n",
       "      <td>ee1f947df169cbdc8569a6959913c4ef</td>\n",
       "      <td>58</td>\n",
       "      <td>female</td>\n",
       "      <td>human</td>\n",
       "    </tr>\n",
       "    <tr>\n",
       "      <th>3</th>\n",
       "      <td>611df0e51c4fcc5fd1a03887b031a2dc</td>\n",
       "      <td>75</td>\n",
       "      <td>male</td>\n",
       "      <td>human</td>\n",
       "    </tr>\n",
       "    <tr>\n",
       "      <th>4</th>\n",
       "      <td>2aeae75bd1d6c3ad42574b68d4daf07c</td>\n",
       "      <td>59</td>\n",
       "      <td>male</td>\n",
       "      <td>human</td>\n",
       "    </tr>\n",
       "  </tbody>\n",
       "</table>\n",
       "</div>"
      ],
      "text/plain": [
       "                                 Id  age     sex label_type\n",
       "0  eee45832964560ae45040cbc95a252e7   72  female      human\n",
       "1  6a9adde92c964bd844ddeb12bf559130   76  female      human\n",
       "2  ee1f947df169cbdc8569a6959913c4ef   58  female      human\n",
       "3  611df0e51c4fcc5fd1a03887b031a2dc   75    male      human\n",
       "4  2aeae75bd1d6c3ad42574b68d4daf07c   59    male      human"
      ]
     },
     "execution_count": 6,
     "metadata": {},
     "output_type": "execute_result"
    }
   ],
   "source": [
    "# testファイルを読み込む\n",
    "df_test = pd.read_csv(\"../input/ai-medical-contest-2021//test.csv\")\n",
    "print(\"df_test.shape\", df_test.shape) # シェイプ = (行数, 列数)を表示する\n",
    "df_test.head() # 先頭5行を表示する"
   ]
  },
  {
   "cell_type": "code",
   "execution_count": 7,
   "id": "three-agriculture",
   "metadata": {},
   "outputs": [
    {
     "name": "stdout",
     "output_type": "stream",
     "text": [
      "df_sub.shape (8000, 2)\n"
     ]
    },
    {
     "data": {
      "text/html": [
       "<div>\n",
       "<style scoped>\n",
       "    .dataframe tbody tr th:only-of-type {\n",
       "        vertical-align: middle;\n",
       "    }\n",
       "\n",
       "    .dataframe tbody tr th {\n",
       "        vertical-align: top;\n",
       "    }\n",
       "\n",
       "    .dataframe thead th {\n",
       "        text-align: right;\n",
       "    }\n",
       "</style>\n",
       "<table border=\"1\" class=\"dataframe\">\n",
       "  <thead>\n",
       "    <tr style=\"text-align: right;\">\n",
       "      <th></th>\n",
       "      <th>Id</th>\n",
       "      <th>target</th>\n",
       "    </tr>\n",
       "  </thead>\n",
       "  <tbody>\n",
       "    <tr>\n",
       "      <th>0</th>\n",
       "      <td>eee45832964560ae45040cbc95a252e7</td>\n",
       "      <td>0.5</td>\n",
       "    </tr>\n",
       "    <tr>\n",
       "      <th>1</th>\n",
       "      <td>6a9adde92c964bd844ddeb12bf559130</td>\n",
       "      <td>0.5</td>\n",
       "    </tr>\n",
       "    <tr>\n",
       "      <th>2</th>\n",
       "      <td>ee1f947df169cbdc8569a6959913c4ef</td>\n",
       "      <td>0.5</td>\n",
       "    </tr>\n",
       "    <tr>\n",
       "      <th>3</th>\n",
       "      <td>611df0e51c4fcc5fd1a03887b031a2dc</td>\n",
       "      <td>0.5</td>\n",
       "    </tr>\n",
       "    <tr>\n",
       "      <th>4</th>\n",
       "      <td>2aeae75bd1d6c3ad42574b68d4daf07c</td>\n",
       "      <td>0.5</td>\n",
       "    </tr>\n",
       "  </tbody>\n",
       "</table>\n",
       "</div>"
      ],
      "text/plain": [
       "                                 Id  target\n",
       "0  eee45832964560ae45040cbc95a252e7     0.5\n",
       "1  6a9adde92c964bd844ddeb12bf559130     0.5\n",
       "2  ee1f947df169cbdc8569a6959913c4ef     0.5\n",
       "3  611df0e51c4fcc5fd1a03887b031a2dc     0.5\n",
       "4  2aeae75bd1d6c3ad42574b68d4daf07c     0.5"
      ]
     },
     "execution_count": 7,
     "metadata": {},
     "output_type": "execute_result"
    }
   ],
   "source": [
    "# submissionファイルを読み込む\n",
    "df_sub = pd.read_csv(\"../input/ai-medical-contest-2021//sample_submission.csv\")\n",
    "print(\"df_sub.shape\", df_sub.shape) # シェイプ = (行数, 列数)を表示する\n",
    "df_sub.head() # 先頭5行を表示する"
   ]
  },
  {
   "cell_type": "code",
   "execution_count": 8,
   "id": "wound-hampton",
   "metadata": {},
   "outputs": [
    {
     "name": "stdout",
     "output_type": "stream",
     "text": [
      "../input/ai-medical-contest-2021/ecg/81ac15cb8d3be42e3d0ccdea36176183.npy\n"
     ]
    },
    {
     "data": {
      "text/html": [
       "<div>\n",
       "<style scoped>\n",
       "    .dataframe tbody tr th:only-of-type {\n",
       "        vertical-align: middle;\n",
       "    }\n",
       "\n",
       "    .dataframe tbody tr th {\n",
       "        vertical-align: top;\n",
       "    }\n",
       "\n",
       "    .dataframe thead th {\n",
       "        text-align: right;\n",
       "    }\n",
       "</style>\n",
       "<table border=\"1\" class=\"dataframe\">\n",
       "  <thead>\n",
       "    <tr style=\"text-align: right;\">\n",
       "      <th></th>\n",
       "      <th>Id</th>\n",
       "      <th>target</th>\n",
       "      <th>age</th>\n",
       "      <th>sex</th>\n",
       "      <th>label_type</th>\n",
       "      <th>path</th>\n",
       "    </tr>\n",
       "  </thead>\n",
       "  <tbody>\n",
       "    <tr>\n",
       "      <th>0</th>\n",
       "      <td>81ac15cb8d3be42e3d0ccdea36176183</td>\n",
       "      <td>1</td>\n",
       "      <td>80</td>\n",
       "      <td>female</td>\n",
       "      <td>human</td>\n",
       "      <td>../input/ai-medical-contest-2021/ecg/81ac15cb8...</td>\n",
       "    </tr>\n",
       "    <tr>\n",
       "      <th>1</th>\n",
       "      <td>92a68a851f4686e2a4ddf99304f307d4</td>\n",
       "      <td>0</td>\n",
       "      <td>59</td>\n",
       "      <td>male</td>\n",
       "      <td>auto</td>\n",
       "      <td>../input/ai-medical-contest-2021/ecg/92a68a851...</td>\n",
       "    </tr>\n",
       "    <tr>\n",
       "      <th>2</th>\n",
       "      <td>076d002b3c47e54fff4985b0875e0890</td>\n",
       "      <td>0</td>\n",
       "      <td>29</td>\n",
       "      <td>male</td>\n",
       "      <td>human</td>\n",
       "      <td>../input/ai-medical-contest-2021/ecg/076d002b3...</td>\n",
       "    </tr>\n",
       "    <tr>\n",
       "      <th>3</th>\n",
       "      <td>0460976b5de525addbf73d0971145146</td>\n",
       "      <td>1</td>\n",
       "      <td>59</td>\n",
       "      <td>male</td>\n",
       "      <td>auto</td>\n",
       "      <td>../input/ai-medical-contest-2021/ecg/0460976b5...</td>\n",
       "    </tr>\n",
       "    <tr>\n",
       "      <th>4</th>\n",
       "      <td>13ac4608f13ffbca4ceb2d49179930a8</td>\n",
       "      <td>0</td>\n",
       "      <td>75</td>\n",
       "      <td>male</td>\n",
       "      <td>human</td>\n",
       "      <td>../input/ai-medical-contest-2021/ecg/13ac4608f...</td>\n",
       "    </tr>\n",
       "  </tbody>\n",
       "</table>\n",
       "</div>"
      ],
      "text/plain": [
       "                                 Id  target  age     sex label_type  \\\n",
       "0  81ac15cb8d3be42e3d0ccdea36176183       1   80  female      human   \n",
       "1  92a68a851f4686e2a4ddf99304f307d4       0   59    male       auto   \n",
       "2  076d002b3c47e54fff4985b0875e0890       0   29    male      human   \n",
       "3  0460976b5de525addbf73d0971145146       1   59    male       auto   \n",
       "4  13ac4608f13ffbca4ceb2d49179930a8       0   75    male      human   \n",
       "\n",
       "                                                path  \n",
       "0  ../input/ai-medical-contest-2021/ecg/81ac15cb8...  \n",
       "1  ../input/ai-medical-contest-2021/ecg/92a68a851...  \n",
       "2  ../input/ai-medical-contest-2021/ecg/076d002b3...  \n",
       "3  ../input/ai-medical-contest-2021/ecg/0460976b5...  \n",
       "4  ../input/ai-medical-contest-2021/ecg/13ac4608f...  "
      ]
     },
     "execution_count": 8,
     "metadata": {},
     "output_type": "execute_result"
    }
   ],
   "source": [
    "# ECGデータのpathの列を追加.\n",
    "df_train['path'] = df_train['Id'].apply(lambda x: \"../input/ai-medical-contest-2021/ecg/{}.npy\".format(x))\n",
    "df_test['path'] = df_test['Id'].apply(lambda x: \"../input/ai-medical-contest-2021/ecg/{}.npy\".format(x))\n",
    "print(df_train['path'][0]) # path列の0行目を表示\n",
    "df_train.head()"
   ]
  },
  {
   "cell_type": "code",
   "execution_count": 9,
   "id": "combined-plain",
   "metadata": {},
   "outputs": [
    {
     "name": "stdout",
     "output_type": "stream",
     "text": [
      "(10000, 6)\n"
     ]
    },
    {
     "data": {
      "text/html": [
       "<div>\n",
       "<style scoped>\n",
       "    .dataframe tbody tr th:only-of-type {\n",
       "        vertical-align: middle;\n",
       "    }\n",
       "\n",
       "    .dataframe tbody tr th {\n",
       "        vertical-align: top;\n",
       "    }\n",
       "\n",
       "    .dataframe thead th {\n",
       "        text-align: right;\n",
       "    }\n",
       "</style>\n",
       "<table border=\"1\" class=\"dataframe\">\n",
       "  <thead>\n",
       "    <tr style=\"text-align: right;\">\n",
       "      <th></th>\n",
       "      <th>Id</th>\n",
       "      <th>target</th>\n",
       "      <th>age</th>\n",
       "      <th>sex</th>\n",
       "      <th>label_type</th>\n",
       "      <th>path</th>\n",
       "    </tr>\n",
       "  </thead>\n",
       "  <tbody>\n",
       "    <tr>\n",
       "      <th>0</th>\n",
       "      <td>81ac15cb8d3be42e3d0ccdea36176183</td>\n",
       "      <td>1.0</td>\n",
       "      <td>80</td>\n",
       "      <td>female</td>\n",
       "      <td>human</td>\n",
       "      <td>../input/ai-medical-contest-2021/ecg/81ac15cb8...</td>\n",
       "    </tr>\n",
       "    <tr>\n",
       "      <th>1</th>\n",
       "      <td>92a68a851f4686e2a4ddf99304f307d4</td>\n",
       "      <td>0.0</td>\n",
       "      <td>59</td>\n",
       "      <td>male</td>\n",
       "      <td>auto</td>\n",
       "      <td>../input/ai-medical-contest-2021/ecg/92a68a851...</td>\n",
       "    </tr>\n",
       "    <tr>\n",
       "      <th>2</th>\n",
       "      <td>076d002b3c47e54fff4985b0875e0890</td>\n",
       "      <td>0.0</td>\n",
       "      <td>29</td>\n",
       "      <td>male</td>\n",
       "      <td>human</td>\n",
       "      <td>../input/ai-medical-contest-2021/ecg/076d002b3...</td>\n",
       "    </tr>\n",
       "    <tr>\n",
       "      <th>3</th>\n",
       "      <td>0460976b5de525addbf73d0971145146</td>\n",
       "      <td>1.0</td>\n",
       "      <td>59</td>\n",
       "      <td>male</td>\n",
       "      <td>auto</td>\n",
       "      <td>../input/ai-medical-contest-2021/ecg/0460976b5...</td>\n",
       "    </tr>\n",
       "    <tr>\n",
       "      <th>4</th>\n",
       "      <td>13ac4608f13ffbca4ceb2d49179930a8</td>\n",
       "      <td>0.0</td>\n",
       "      <td>75</td>\n",
       "      <td>male</td>\n",
       "      <td>human</td>\n",
       "      <td>../input/ai-medical-contest-2021/ecg/13ac4608f...</td>\n",
       "    </tr>\n",
       "  </tbody>\n",
       "</table>\n",
       "</div>"
      ],
      "text/plain": [
       "                                 Id  target  age     sex label_type  \\\n",
       "0  81ac15cb8d3be42e3d0ccdea36176183     1.0   80  female      human   \n",
       "1  92a68a851f4686e2a4ddf99304f307d4     0.0   59    male       auto   \n",
       "2  076d002b3c47e54fff4985b0875e0890     0.0   29    male      human   \n",
       "3  0460976b5de525addbf73d0971145146     1.0   59    male       auto   \n",
       "4  13ac4608f13ffbca4ceb2d49179930a8     0.0   75    male      human   \n",
       "\n",
       "                                                path  \n",
       "0  ../input/ai-medical-contest-2021/ecg/81ac15cb8...  \n",
       "1  ../input/ai-medical-contest-2021/ecg/92a68a851...  \n",
       "2  ../input/ai-medical-contest-2021/ecg/076d002b3...  \n",
       "3  ../input/ai-medical-contest-2021/ecg/0460976b5...  \n",
       "4  ../input/ai-medical-contest-2021/ecg/13ac4608f...  "
      ]
     },
     "execution_count": 9,
     "metadata": {},
     "output_type": "execute_result"
    }
   ],
   "source": [
    "# trainとtestを連結する\n",
    "df_traintest = pd.concat([df_train, df_test]).reset_index(drop=True) # reset_index: 行のindexをリセットする\n",
    "print(df_traintest.shape)\n",
    "df_traintest.head()"
   ]
  },
  {
   "cell_type": "code",
   "execution_count": 10,
   "id": "handled-cedar",
   "metadata": {},
   "outputs": [
    {
     "data": {
      "text/html": [
       "<div>\n",
       "<style scoped>\n",
       "    .dataframe tbody tr th:only-of-type {\n",
       "        vertical-align: middle;\n",
       "    }\n",
       "\n",
       "    .dataframe tbody tr th {\n",
       "        vertical-align: top;\n",
       "    }\n",
       "\n",
       "    .dataframe thead th {\n",
       "        text-align: right;\n",
       "    }\n",
       "</style>\n",
       "<table border=\"1\" class=\"dataframe\">\n",
       "  <thead>\n",
       "    <tr style=\"text-align: right;\">\n",
       "      <th></th>\n",
       "      <th>Id</th>\n",
       "      <th>target</th>\n",
       "      <th>age</th>\n",
       "      <th>sex</th>\n",
       "      <th>label_type</th>\n",
       "      <th>path</th>\n",
       "    </tr>\n",
       "  </thead>\n",
       "  <tbody>\n",
       "    <tr>\n",
       "      <th>0</th>\n",
       "      <td>81ac15cb8d3be42e3d0ccdea36176183</td>\n",
       "      <td>1.0</td>\n",
       "      <td>80</td>\n",
       "      <td>0</td>\n",
       "      <td>0</td>\n",
       "      <td>../input/ai-medical-contest-2021/ecg/81ac15cb8...</td>\n",
       "    </tr>\n",
       "    <tr>\n",
       "      <th>1</th>\n",
       "      <td>92a68a851f4686e2a4ddf99304f307d4</td>\n",
       "      <td>0.0</td>\n",
       "      <td>59</td>\n",
       "      <td>1</td>\n",
       "      <td>1</td>\n",
       "      <td>../input/ai-medical-contest-2021/ecg/92a68a851...</td>\n",
       "    </tr>\n",
       "    <tr>\n",
       "      <th>2</th>\n",
       "      <td>076d002b3c47e54fff4985b0875e0890</td>\n",
       "      <td>0.0</td>\n",
       "      <td>29</td>\n",
       "      <td>1</td>\n",
       "      <td>0</td>\n",
       "      <td>../input/ai-medical-contest-2021/ecg/076d002b3...</td>\n",
       "    </tr>\n",
       "    <tr>\n",
       "      <th>3</th>\n",
       "      <td>0460976b5de525addbf73d0971145146</td>\n",
       "      <td>1.0</td>\n",
       "      <td>59</td>\n",
       "      <td>1</td>\n",
       "      <td>1</td>\n",
       "      <td>../input/ai-medical-contest-2021/ecg/0460976b5...</td>\n",
       "    </tr>\n",
       "    <tr>\n",
       "      <th>4</th>\n",
       "      <td>13ac4608f13ffbca4ceb2d49179930a8</td>\n",
       "      <td>0.0</td>\n",
       "      <td>75</td>\n",
       "      <td>1</td>\n",
       "      <td>0</td>\n",
       "      <td>../input/ai-medical-contest-2021/ecg/13ac4608f...</td>\n",
       "    </tr>\n",
       "  </tbody>\n",
       "</table>\n",
       "</div>"
      ],
      "text/plain": [
       "                                 Id  target  age  sex  label_type  \\\n",
       "0  81ac15cb8d3be42e3d0ccdea36176183     1.0   80    0           0   \n",
       "1  92a68a851f4686e2a4ddf99304f307d4     0.0   59    1           1   \n",
       "2  076d002b3c47e54fff4985b0875e0890     0.0   29    1           0   \n",
       "3  0460976b5de525addbf73d0971145146     1.0   59    1           1   \n",
       "4  13ac4608f13ffbca4ceb2d49179930a8     0.0   75    1           0   \n",
       "\n",
       "                                                path  \n",
       "0  ../input/ai-medical-contest-2021/ecg/81ac15cb8...  \n",
       "1  ../input/ai-medical-contest-2021/ecg/92a68a851...  \n",
       "2  ../input/ai-medical-contest-2021/ecg/076d002b3...  \n",
       "3  ../input/ai-medical-contest-2021/ecg/0460976b5...  \n",
       "4  ../input/ai-medical-contest-2021/ecg/13ac4608f...  "
      ]
     },
     "execution_count": 10,
     "metadata": {},
     "output_type": "execute_result"
    }
   ],
   "source": [
    "# カテゴリ変数をラベルエンコーディングする (数値に置き換える).\n",
    "df_traintest['sex'] = df_traintest['sex'].replace('female', 0) # femaleに0を代入\n",
    "df_traintest['sex'] = df_traintest['sex'].replace('male', 1) # maleに1を代入\n",
    "df_traintest['sex'] = df_traintest['sex'].astype(int) # 型を整数に変換\n",
    "\n",
    "df_traintest['label_type'] = df_traintest['label_type'].replace('human', 0) # humanに0を代入\n",
    "df_traintest['label_type'] = df_traintest['label_type'].replace('auto', 1) # autoに1を代入\n",
    "df_traintest['label_type'] = df_traintest['label_type'].astype(int) # 型を整数に変換\n",
    "df_traintest.head()"
   ]
  },
  {
   "cell_type": "code",
   "execution_count": 11,
   "id": "pretty-duncan",
   "metadata": {},
   "outputs": [
    {
     "data": {
      "text/html": [
       "<div>\n",
       "<style scoped>\n",
       "    .dataframe tbody tr th:only-of-type {\n",
       "        vertical-align: middle;\n",
       "    }\n",
       "\n",
       "    .dataframe tbody tr th {\n",
       "        vertical-align: top;\n",
       "    }\n",
       "\n",
       "    .dataframe thead th {\n",
       "        text-align: right;\n",
       "    }\n",
       "</style>\n",
       "<table border=\"1\" class=\"dataframe\">\n",
       "  <thead>\n",
       "    <tr style=\"text-align: right;\">\n",
       "      <th></th>\n",
       "      <th>Id</th>\n",
       "      <th>target</th>\n",
       "      <th>age</th>\n",
       "      <th>sex</th>\n",
       "      <th>label_type</th>\n",
       "      <th>path</th>\n",
       "    </tr>\n",
       "  </thead>\n",
       "  <tbody>\n",
       "    <tr>\n",
       "      <th>0</th>\n",
       "      <td>81ac15cb8d3be42e3d0ccdea36176183</td>\n",
       "      <td>1.0</td>\n",
       "      <td>80</td>\n",
       "      <td>0</td>\n",
       "      <td>0</td>\n",
       "      <td>../input/ai-medical-contest-2021/ecg/81ac15cb8...</td>\n",
       "    </tr>\n",
       "    <tr>\n",
       "      <th>1</th>\n",
       "      <td>92a68a851f4686e2a4ddf99304f307d4</td>\n",
       "      <td>0.0</td>\n",
       "      <td>59</td>\n",
       "      <td>1</td>\n",
       "      <td>1</td>\n",
       "      <td>../input/ai-medical-contest-2021/ecg/92a68a851...</td>\n",
       "    </tr>\n",
       "    <tr>\n",
       "      <th>2</th>\n",
       "      <td>076d002b3c47e54fff4985b0875e0890</td>\n",
       "      <td>0.0</td>\n",
       "      <td>29</td>\n",
       "      <td>1</td>\n",
       "      <td>0</td>\n",
       "      <td>../input/ai-medical-contest-2021/ecg/076d002b3...</td>\n",
       "    </tr>\n",
       "    <tr>\n",
       "      <th>3</th>\n",
       "      <td>0460976b5de525addbf73d0971145146</td>\n",
       "      <td>1.0</td>\n",
       "      <td>59</td>\n",
       "      <td>1</td>\n",
       "      <td>1</td>\n",
       "      <td>../input/ai-medical-contest-2021/ecg/0460976b5...</td>\n",
       "    </tr>\n",
       "    <tr>\n",
       "      <th>4</th>\n",
       "      <td>13ac4608f13ffbca4ceb2d49179930a8</td>\n",
       "      <td>0.0</td>\n",
       "      <td>75</td>\n",
       "      <td>1</td>\n",
       "      <td>0</td>\n",
       "      <td>../input/ai-medical-contest-2021/ecg/13ac4608f...</td>\n",
       "    </tr>\n",
       "  </tbody>\n",
       "</table>\n",
       "</div>"
      ],
      "text/plain": [
       "                                 Id  target  age  sex  label_type  \\\n",
       "0  81ac15cb8d3be42e3d0ccdea36176183     1.0   80    0           0   \n",
       "1  92a68a851f4686e2a4ddf99304f307d4     0.0   59    1           1   \n",
       "2  076d002b3c47e54fff4985b0875e0890     0.0   29    1           0   \n",
       "3  0460976b5de525addbf73d0971145146     1.0   59    1           1   \n",
       "4  13ac4608f13ffbca4ceb2d49179930a8     0.0   75    1           0   \n",
       "\n",
       "                                                path  \n",
       "0  ../input/ai-medical-contest-2021/ecg/81ac15cb8...  \n",
       "1  ../input/ai-medical-contest-2021/ecg/92a68a851...  \n",
       "2  ../input/ai-medical-contest-2021/ecg/076d002b3...  \n",
       "3  ../input/ai-medical-contest-2021/ecg/0460976b5...  \n",
       "4  ../input/ai-medical-contest-2021/ecg/13ac4608f...  "
      ]
     },
     "execution_count": 11,
     "metadata": {},
     "output_type": "execute_result"
    }
   ],
   "source": [
    "# train と test を再度切り分ける\n",
    "df_train = df_traintest.iloc[:len(df_train)]\n",
    "df_test = df_traintest.iloc[len(df_train):].reset_index(drop=True)\n",
    "df_train.head()"
   ]
  },
  {
   "cell_type": "code",
   "execution_count": 12,
   "id": "indian-identifier",
   "metadata": {},
   "outputs": [
    {
     "name": "stdout",
     "output_type": "stream",
     "text": [
      "ecg_train.shape: (2000, 800, 12)\n",
      "ecg_test.shape: (8000, 800, 12)\n"
     ]
    }
   ],
   "source": [
    "# 全てのECGデータを読み込む\n",
    "ecg_train = np.zeros([len(df_train), 800, 12], np.float32) # trainの心電図データの代入先. shape=(データ数, 時間方向, 12誘導)\n",
    "for i in range(len(df_train)): # 全てのtrain dataについて\n",
    "    path_tmp = df_train['path'][i] # i行目の心電図データのpath\n",
    "    ecg_tmp = np.load(path_tmp) # i行目の心電図データ\n",
    "    ecg_train[i] = ecg_tmp # 読み込んだ心電図データをecg_trainのi行目に代入\n",
    "\n",
    "ecg_test = np.zeros([len(df_test), 800, 12], np.float32) # testの心電図データの代入先. shape=(データ数, 時間方向, 12誘導)\n",
    "for i in range(len(df_test)): # 全てのtest dataについて\n",
    "    path_tmp = df_test['path'][i] # i行目の心電図データのpath\n",
    "    ecg_tmp = np.load(path_tmp) # i行目の心電図データ\n",
    "    ecg_test[i] = ecg_tmp # 読み込んだ心電図データをecg_trainのi行目に代入\n",
    "print(\"ecg_train.shape: {}\".format(ecg_train.shape))\n",
    "print(\"ecg_test.shape: {}\".format(ecg_test.shape))"
   ]
  },
  {
   "cell_type": "code",
   "execution_count": 13,
   "id": "subsequent-wiring",
   "metadata": {},
   "outputs": [
    {
     "name": "stdout",
     "output_type": "stream",
     "text": [
      "target_train.shape: (2000,)\n"
     ]
    }
   ],
   "source": [
    "# target情報をnumpy形式に変換\n",
    "target_train = df_train[col_target].values.astype(np.int) # pandas.Seriesからnp.ndarrayへ変換\n",
    "print(\"target_train.shape: {}\".format(target_train.shape))"
   ]
  },
  {
   "cell_type": "raw",
   "id": "conscious-yugoslavia",
   "metadata": {},
   "source": [
    "# クロスバリデーションを行うためにデータを5分割する\n",
    "# 4つを学習に用い、1つを検証に要する。これを5回繰り返す。\n",
    "folds = list(StratifiedKFold(n_splits=n_splits, shuffle=True, random_state=42).split(\n",
    "    np.arange(len(df_train)), \n",
    "    y=df_train[col_target]) # 各foldターゲットのラベルの分布がそろうようにする = stratified K fold\n",
    ")"
   ]
  },
  {
   "cell_type": "code",
   "execution_count": 14,
   "id": "portable-madrid",
   "metadata": {},
   "outputs": [],
   "source": [
    "# クロスバリデーションを行うためにデータを5分割する\n",
    "# 4つを学習に用い、1つを検証に要する。これを5回繰り返す。\n",
    "folds = list(StratifiedShuffleSplit(n_splits=n_splits, test_size=0.1, random_state=42).split(\n",
    "    np.arange(len(df_train)), \n",
    "    y=df_train[col_target]) # 各foldターゲットのラベルの分布がそろうようにする = stratified K fold\n",
    ")"
   ]
  },
  {
   "cell_type": "code",
   "execution_count": 15,
   "id": "adopted-ownership",
   "metadata": {},
   "outputs": [
    {
     "name": "stdout",
     "output_type": "stream",
     "text": [
      "X_train.shape: (1800, 800, 12), X_valid.shape: (200, 800, 12)\n",
      "y_train.shape: (1800,), y_valid.shape: (200,)\n"
     ]
    }
   ],
   "source": [
    "# fold 0の学習データと検証データの分割\n",
    "fold = 0 # fold 0 についての学習を行う\n",
    "\n",
    "# このfoldにおける学習データと検証データの切り分け\n",
    "X_train = ecg_train[folds[fold][0]] # 学習データの入力データを抽出\n",
    "y_train = target_train[folds[fold][0]] # 学習データの正解データを抽出\n",
    "X_valid = ecg_train[folds[fold][1]] # 検証データの入力データを抽出\n",
    "y_valid = target_train[folds[fold][1]] # 検証データの正解データを抽出\n",
    "print(\"X_train.shape: {}, X_valid.shape: {}\".format(X_train.shape, X_valid.shape))\n",
    "print(\"y_train.shape: {}, y_valid.shape: {}\".format(y_train.shape, y_valid.shape))"
   ]
  },
  {
   "cell_type": "code",
   "execution_count": 16,
   "id": "convinced-paper",
   "metadata": {},
   "outputs": [
    {
     "data": {
      "text/plain": [
       "(800, 12)"
      ]
     },
     "execution_count": 16,
     "metadata": {},
     "output_type": "execute_result"
    }
   ],
   "source": [
    "ecg_train[0].shape"
   ]
  },
  {
   "cell_type": "code",
   "execution_count": 17,
   "id": "limiting-powder",
   "metadata": {},
   "outputs": [
    {
     "data": {
      "image/png": "[encoded data removed]",
      "text/plain": [
       "<Figure size 432x288 with 1 Axes>"
      ]
     },
     "metadata": {
      "needs_background": "light"
     },
     "output_type": "display_data"
    }
   ],
   "source": [
    "for i in range(12):\n",
    "    plt.plot(ecg_train[0][:,i][:input_size])"
   ]
  },
  {
   "cell_type": "raw",
   "id": "according-threat",
   "metadata": {},
   "source": [
    "class MyDataset(torch.utils.data.Dataset):\n",
    "    def __init__(self, data, label):\n",
    "        super().__init__()\n",
    "        \n",
    "        self.data = data\n",
    "        self.label = label\n",
    "        self.len = data.shape[0]\n",
    "        \n",
    "    def __len__(self):\n",
    "        return self.len\n",
    "    \n",
    "    def __getitem__(self, index):\n",
    "        out_data = self.data[index]\n",
    "        out_label = self.label[index]\n",
    "        \n",
    "        return out_data, out_label"
   ]
  },
  {
   "cell_type": "code",
   "execution_count": 18,
   "id": "judicial-newton",
   "metadata": {},
   "outputs": [],
   "source": [
    "class MyDataset(torch.utils.data.Dataset):\n",
    "    def __init__(self, data, label):\n",
    "        super().__init__()\n",
    "        \n",
    "        self.data = data\n",
    "        self.label = label\n",
    "        self.len = data.shape[0]\n",
    "        \n",
    "    def __len__(self):\n",
    "        return self.len\n",
    "    \n",
    "    def __getitem__(self, index):\n",
    "        out_data = self.data\n",
    "#         new_length = np.random.randint(600,1000)\n",
    "        new_length = 800\n",
    "        out_data = out_data[index]\n",
    "        \n",
    "#         print(out_data.shape)\n",
    "#         out_data = cv2.resize(out_data, (12,700))\n",
    "        out_data = out_data * torch.normal(\n",
    "            mean=torch.ones(out_data.shape), std=torch.ones(out_data.shape) * 0.1).to(device)\n",
    "\n",
    "        start_idx = np.random.randint(0,new_length-input_size-1)\n",
    "        out_data = out_data[start_idx:start_idx+input_size:,:]\n",
    "        out_label = self.label[index]\n",
    "#         print(out_data.shape)\n",
    "        \n",
    "        return out_data, out_label"
   ]
  },
  {
   "cell_type": "code",
   "execution_count": null,
   "id": "czech-hamilton",
   "metadata": {},
   "outputs": [],
   "source": []
  },
  {
   "cell_type": "code",
   "execution_count": 19,
   "id": "animated-acquisition",
   "metadata": {},
   "outputs": [
    {
     "name": "stdout",
     "output_type": "stream",
     "text": [
      "\n",
      "A 1D CNN is very effective when you expect to derive interesting features from shorter \n",
      "(fixed-length) segments of the overall data set and where the location of the feature \n",
      "within the segment is not of high relevance.\n",
      "\n"
     ]
    }
   ],
   "source": [
    "# https://github.com/eddymina/ECG_Classification_Pytorch/blob/master/ECG_notebook.ipynb\n",
    "\n",
    "import torch.nn as nn\n",
    "import torch.nn.functional as F\n",
    "\n",
    "print(\"\"\"\\nA 1D CNN is very effective when you expect to derive interesting features from shorter \n",
    "(fixed-length) segments of the overall data set and where the location of the feature \n",
    "within the segment is not of high relevance.\\n\"\"\")\n",
    "\n",
    "class Anomaly_Classifier(nn.Module):\n",
    "    def __init__(self, input_size,num_classes):\n",
    "        super(Anomaly_Classifier, self).__init__()\n",
    "    \n",
    "        self.conv= nn.Conv1d(in_channels=input_size, out_channels=32, kernel_size=5,stride=1)\n",
    "        \n",
    "        self.conv_pad = nn.Conv1d(in_channels=32, out_channels=32, kernel_size=5,stride=1,padding=2)\n",
    "        self.drop_50 = nn.Dropout(p=0.5)\n",
    "\n",
    "        self.maxpool = nn.MaxPool1d(kernel_size=5,stride=2) \n",
    "\n",
    "#         self.dense1 = nn.Linear(32 * 8, 32) \n",
    "        self.dense1 = nn.Linear(1472, 32) \n",
    "        self.dense2 = nn.Linear(32, 32) \n",
    "        \n",
    "        self.dense_final = nn.Linear(32, num_classes)\n",
    "\n",
    "    def forward(self, x):\n",
    "        s1, s2, s3 = x.shape\n",
    "        x = x.reshape(s1, s3, s2)\n",
    "        \n",
    "        residual= self.conv(x)\n",
    "      \n",
    "        #block1 \n",
    "        x = F.relu(self.conv_pad(residual))\n",
    "        x = self.conv_pad(x)\n",
    "        x+= residual \n",
    "        x = F.relu(x)\n",
    "        residual = self.maxpool(x) #[512 32 90]\n",
    "       \n",
    "        #block2\n",
    "        x=F.relu(self.conv_pad(residual))\n",
    "        x=self.conv_pad(x)\n",
    "        x+=residual\n",
    "        x= F.relu(x)\n",
    "        residual = self.maxpool(x) #[512 32 43]\n",
    "        \n",
    "        \n",
    "        #block3\n",
    "        x=F.relu(self.conv_pad(residual))\n",
    "        x=self.conv_pad(x)\n",
    "        x+=residual\n",
    "        x= F.relu(x)\n",
    "        residual = self.maxpool(x) #[512 32 20]\n",
    "        \n",
    "        \n",
    "        #block4\n",
    "        x=F.relu(self.conv_pad(residual))\n",
    "        x=self.conv_pad(x)\n",
    "        x+=residual\n",
    "        x= F.relu(x)\n",
    "        x= self.maxpool(x) #[512 32 8]\n",
    "        \n",
    "        s1, s2, s3 = x.shape\n",
    "        \n",
    "        #MLP\n",
    "        x = x.view(-1, s2 * s3) #Reshape (current_dim, 32*2)\n",
    "#         print(x.shape)\n",
    "        \n",
    "        x = F.relu(self.dense1(x))\n",
    "        #x = self.drop_60(x)\n",
    "        x= self.dense2(x)\n",
    "        x = self.dense_final(x)\n",
    "        x = x.view(-1)\n",
    "        return x"
   ]
  },
  {
   "cell_type": "code",
   "execution_count": 20,
   "id": "adjacent-furniture",
   "metadata": {},
   "outputs": [],
   "source": [
    "class Net1D(nn.Module):\n",
    "    def __init__(self):\n",
    "        super().__init__()\n",
    "        self.conv1 = nn.Conv1d(12, 64, kernel_size=7, stride=1)\n",
    "        self.bn1 = nn.BatchNorm1d(64)\n",
    "        self.relu = nn.ReLU()\n",
    "        self.maxpool = nn.MaxPool1d(kernel_size=7, stride=2)\n",
    "\n",
    "        self.conv2 = nn.Conv1d(64, 128, kernel_size=3, stride=1)\n",
    "        self.bn2 = nn.BatchNorm1d(128)\n",
    "        self.conv3 = nn.Conv1d(128,256,kernel_size=3, stride=1)\n",
    "        self.gap = nn.AdaptiveAvgPool1d(1)\n",
    "        self.fc = nn.Linear(256,1)\n",
    "\n",
    "\n",
    "    def forward(self,x):\n",
    "        s1, s2, s3 = x.shape\n",
    "        x = x.reshape(s1, s3, s2)\n",
    "\n",
    "        x = self.conv1(x)\n",
    "        x = self.bn1(x)\n",
    "        x = self.relu(x)\n",
    "        x = self.maxpool(x)\n",
    "\n",
    "        x = self.conv2(x)\n",
    "        x = self.bn2(x)\n",
    "        x = self.relu(x)\n",
    "        x = self.maxpool(x)\n",
    "\n",
    "        x = self.conv3(x)\n",
    "        x = self.gap(x)\n",
    "        x = x.view(x.size(0),-1)\n",
    "        x = self.fc(x)\n",
    "        x = x.view(-1)\n",
    "\n",
    "        return x"
   ]
  },
  {
   "cell_type": "code",
   "execution_count": 21,
   "id": "delayed-lodge",
   "metadata": {},
   "outputs": [
    {
     "data": {
      "text/plain": [
       "torch.Size([100, 32, 800])"
      ]
     },
     "execution_count": 21,
     "metadata": {},
     "output_type": "execute_result"
    }
   ],
   "source": [
    "m = nn.Conv1d(12, 32, 7, stride=1, padding=3)\n",
    "input = torch.randn(100, 12, 800)\n",
    "m(input).shape\n"
   ]
  },
  {
   "cell_type": "code",
   "execution_count": 22,
   "id": "stunning-drill",
   "metadata": {},
   "outputs": [
    {
     "data": {
      "text/plain": [
       "torch.Size([100, 12, 800])"
      ]
     },
     "execution_count": 22,
     "metadata": {},
     "output_type": "execute_result"
    }
   ],
   "source": [
    "input.shape"
   ]
  },
  {
   "cell_type": "code",
   "execution_count": 23,
   "id": "bored-stockholm",
   "metadata": {},
   "outputs": [],
   "source": [
    "m = nn.MaxPool1d(3, stride=2)\n",
    "input = torch.randn(20, 16, 50)\n",
    "output = m(input)"
   ]
  },
  {
   "cell_type": "code",
   "execution_count": 24,
   "id": "rural-vaccine",
   "metadata": {},
   "outputs": [],
   "source": [
    "\n",
    "# https://github.com/Bjarten/early-stopping-pytorch modified\n",
    "class EarlyStopping:\n",
    "    \"\"\"Early stops the training if validation loss doesn't improve after a given patience.\"\"\"\n",
    "    def __init__(self, patience=7, verbose=False, delta=0, path='checkpoint.pt', trace_func=print):\n",
    "        \"\"\"\n",
    "        Args:\n",
    "            patience (int): How long to wait after last time validation loss improved.\n",
    "                            Default: 7\n",
    "            verbose (bool): If True, prints a message for each validation loss improvement. \n",
    "                            Default: False\n",
    "            delta (float): Minimum change in the monitored quantity to qualify as an improvement.\n",
    "                            Default: 0\n",
    "            path (str): Path for the checkpoint to be saved to.\n",
    "                            Default: 'checkpoint.pt'\n",
    "            trace_func (function): trace print function.\n",
    "                            Default: print            \n",
    "        \"\"\"\n",
    "        self.patience = patience\n",
    "        self.verbose = verbose\n",
    "        self.counter = 0\n",
    "        self.best_score = None\n",
    "        self.early_stop = False\n",
    "        self.val_loss_min = np.Inf\n",
    "        self.delta = delta\n",
    "        self.path = path\n",
    "        self.trace_func = trace_func\n",
    "    def __call__(self, val_loss):\n",
    "\n",
    "        score = -val_loss\n",
    "\n",
    "        if self.best_score is None:\n",
    "            self.best_score = score\n",
    "        elif score < self.best_score + self.delta:\n",
    "            self.counter += 1\n",
    "            if self.verbose:\n",
    "                self.trace_func(f'EarlyStopping counter: {self.counter} out of {self.patience}')\n",
    "            if self.counter >= self.patience:\n",
    "                self.early_stop = True\n",
    "        else:\n",
    "            self.best_score = score\n",
    "            self.counter = 0\n",
    "\n"
   ]
  },
  {
   "cell_type": "code",
   "execution_count": 25,
   "id": "precious-deadline",
   "metadata": {},
   "outputs": [
    {
     "name": "stdout",
     "output_type": "stream",
     "text": [
      "E 0: train loss: 0.526840329170227 val loss: 0.604934811592102 val AUC: 0.6936904761904763\n",
      "E 100: train loss: 0.21139805018901825 val loss: 0.3139428496360779 val AUC: 0.9157142857142857\n",
      "E 200: train loss: 0.314350962638855 val loss: 0.33711910247802734 val AUC: 0.9244047619047618\n",
      "E 300: train loss: 0.24876533448696136 val loss: 0.30031758546829224 val AUC: 0.9289285714285714\n",
      "E 400: train loss: 0.15843622386455536 val loss: 0.32165947556495667 val AUC: 0.9219047619047619\n",
      "E 500: train loss: 0.1177385002374649 val loss: 0.30356159806251526 val AUC: 0.9375\n",
      "E 600: train loss: 0.1968621015548706 val loss: 0.47906652092933655 val AUC: 0.9110714285714286\n",
      "E 700: train loss: 0.11896495521068573 val loss: 0.3146391808986664 val AUC: 0.9320238095238095\n",
      "E 800: train loss: 0.18920131027698517 val loss: 0.3512440025806427 val AUC: 0.9276190476190476\n",
      "E 900: train loss: 0.16269084811210632 val loss: 0.3586517870426178 val AUC: 0.9255952380952381\n",
      "E 1000: train loss: 0.10874650627374649 val loss: 0.36981669068336487 val AUC: 0.9283333333333333\n",
      "E 1100: train loss: 0.0730614960193634 val loss: 0.4076904058456421 val AUC: 0.9251190476190476\n",
      "E 1200: train loss: 0.10978753864765167 val loss: 0.3816874325275421 val AUC: 0.9330952380952381\n",
      "E 1300: train loss: 0.06637071073055267 val loss: 0.4020484387874603 val AUC: 0.9261904761904762\n",
      "E 1400: train loss: 0.06922490149736404 val loss: 0.3778662085533142 val AUC: 0.9310714285714285\n",
      "E 0: train loss: 0.6440659761428833 val loss: 0.5840043425559998 val AUC: 0.7317857142857143\n",
      "E 100: train loss: 0.2518722712993622 val loss: 0.27249306440353394 val AUC: 0.9434523809523809\n",
      "E 200: train loss: 0.19427043199539185 val loss: 0.29051321744918823 val AUC: 0.9392857142857143\n",
      "E 300: train loss: 0.20886118710041046 val loss: 0.286710649728775 val AUC: 0.9428571428571428\n",
      "E 400: train loss: 0.3503701984882355 val loss: 0.2767694890499115 val AUC: 0.9451190476190476\n",
      "E 500: train loss: 0.1737317591905594 val loss: 0.3021933138370514 val AUC: 0.9391666666666667\n",
      "E 600: train loss: 0.18395835161209106 val loss: 0.3050537109375 val AUC: 0.9472619047619047\n",
      "E 700: train loss: 0.15948878228664398 val loss: 0.2686363160610199 val AUC: 0.9570238095238095\n",
      "E 800: train loss: 0.07450288534164429 val loss: 0.3003118932247162 val AUC: 0.9471428571428572\n",
      "E 900: train loss: 0.1061520203948021 val loss: 0.25696200132369995 val AUC: 0.9594047619047619\n",
      "E 1000: train loss: 0.12639756500720978 val loss: 0.29837268590927124 val AUC: 0.9529761904761905\n",
      "E 1100: train loss: 0.08061417192220688 val loss: 0.3109396994113922 val AUC: 0.9502380952380952\n",
      "E 1200: train loss: 0.12147440761327744 val loss: 0.3406452536582947 val AUC: 0.9447619047619048\n",
      "E 1300: train loss: 0.10096425563097 val loss: 0.3290449380874634 val AUC: 0.9542857142857144\n",
      "E 1400: train loss: 0.10730282217264175 val loss: 0.3416697680950165 val AUC: 0.9548809523809524\n",
      "E 0: train loss: 0.529678225517273 val loss: 0.6064589023590088 val AUC: 0.6133333333333333\n",
      "E 100: train loss: 0.25748151540756226 val loss: 0.3148382902145386 val AUC: 0.9288095238095238\n",
      "E 200: train loss: 0.26913994550704956 val loss: 0.30524662137031555 val AUC: 0.93\n",
      "E 300: train loss: 0.17093947529792786 val loss: 0.32623207569122314 val AUC: 0.9221428571428572\n",
      "E 400: train loss: 0.28695937991142273 val loss: 0.35484549403190613 val AUC: 0.9204761904761904\n",
      "E 500: train loss: 0.1812911033630371 val loss: 0.33103689551353455 val AUC: 0.9352380952380952\n",
      "E 600: train loss: 0.11056482791900635 val loss: 0.4065359830856323 val AUC: 0.911904761904762\n",
      "E 700: train loss: 0.1614534854888916 val loss: 0.49714136123657227 val AUC: 0.900952380952381\n",
      "E 800: train loss: 0.12109622359275818 val loss: 0.3945366442203522 val AUC: 0.9188095238095239\n",
      "E 900: train loss: 0.19269956648349762 val loss: 0.4306849539279938 val AUC: 0.9244047619047618\n",
      "E 0: train loss: 0.6214323043823242 val loss: 0.6125937700271606 val AUC: 0.5263095238095238\n",
      "E 100: train loss: 0.26724594831466675 val loss: 0.38286882638931274 val AUC: 0.8819047619047619\n",
      "E 200: train loss: 0.4082278311252594 val loss: 0.43707260489463806 val AUC: 0.8921428571428571\n",
      "E 300: train loss: 0.19301411509513855 val loss: 0.32221323251724243 val AUC: 0.9228571428571428\n",
      "E 400: train loss: 0.1869339942932129 val loss: 0.3972616493701935 val AUC: 0.9045238095238095\n",
      "E 500: train loss: 0.18856392800807953 val loss: 0.3760228753089905 val AUC: 0.9057142857142857\n",
      "E 600: train loss: 0.09298593550920486 val loss: 0.40540724992752075 val AUC: 0.9084523809523809\n",
      "E 700: train loss: 0.1429351270198822 val loss: 0.3878317177295685 val AUC: 0.9135714285714285\n",
      "E 800: train loss: 0.16309188306331635 val loss: 0.5392537713050842 val AUC: 0.8934523809523808\n",
      "E 0: train loss: 0.5994289517402649 val loss: 0.6010361313819885 val AUC: 0.6557142857142857\n",
      "E 100: train loss: 0.4364463984966278 val loss: 0.2830183804035187 val AUC: 0.9361904761904762\n",
      "E 200: train loss: 0.24980595707893372 val loss: 0.24653002619743347 val AUC: 0.9513095238095237\n",
      "E 300: train loss: 0.18150070309638977 val loss: 0.2638538181781769 val AUC: 0.9480952380952381\n",
      "E 400: train loss: 0.15570864081382751 val loss: 0.25056347250938416 val AUC: 0.9564285714285714\n",
      "E 500: train loss: 0.16088296473026276 val loss: 0.2305111438035965 val AUC: 0.9608333333333332\n",
      "E 600: train loss: 0.2108638882637024 val loss: 0.22366438806056976 val AUC: 0.9626190476190476\n",
      "E 700: train loss: 0.1905958354473114 val loss: 0.23007898032665253 val AUC: 0.9630952380952381\n",
      "E 800: train loss: 0.09764645993709564 val loss: 0.2452355921268463 val AUC: 0.9623809523809523\n",
      "E 900: train loss: 0.043944910168647766 val loss: 0.21983686089515686 val AUC: 0.9679761904761904\n",
      "E 1000: train loss: 0.1468907594680786 val loss: 0.26964709162712097 val AUC: 0.9604761904761905\n",
      "E 1100: train loss: 0.11940694600343704 val loss: 0.22972576320171356 val AUC: 0.9661904761904762\n"
     ]
    }
   ],
   "source": [
    "cv = 0\n",
    "list_stopepoch = []\n",
    "list_weights = []\n",
    "idx_valid_start = 100\n",
    "for fold in range(n_splits):\n",
    "#         print('FOLD : {}'.format(fold))\n",
    "    X_train = ecg_train[folds[fold][0]] # 学習データの入力データを抽出\n",
    "    y_train = target_train[folds[fold][0]] # 学習データの正解データを抽出\n",
    "    X_valid = ecg_train[folds[fold][1]] # 検証データの入力データを抽出\n",
    "    y_valid = target_train[folds[fold][1]] # 検証データの正解データを抽出\n",
    "    \n",
    "    X_valid = X_valid[:,idx_valid_start:idx_valid_start+input_size,:]\n",
    "    \n",
    "    X_train = torch.FloatTensor(X_train).to(device)\n",
    "    y_train = torch.FloatTensor(y_train).to(device)\n",
    "    X_valid = torch.FloatTensor(X_valid).to(device)\n",
    "    y_valid = torch.FloatTensor(y_valid).to(device)\n",
    "\n",
    "    dataset = MyDataset(X_train, y_train)\n",
    "    dataloader = torch.utils.data.DataLoader(dataset, batch_size=100, shuffle=True)\n",
    "\n",
    "        # Generate the model.\n",
    "#     model = Anomaly_Classifier(num_classes= 1).to(device)\n",
    "    model = Net1D().cuda()\n",
    "    optimizer = getattr(torch.optim, optimizer_name)(model.parameters(), lr=lr)\n",
    "    criterion = nn.BCEWithLogitsLoss()\n",
    "    \n",
    "    # initialize the early_stopping object\n",
    "    early_stopping = EarlyStopping(patience=patience, verbose=False)\n",
    "\n",
    "    list_loss = []\n",
    "    list_valloss = []\n",
    "    best_auc = 0\n",
    "    for e in range(EPOCHS):\n",
    "        for i, (data, y_target) in enumerate(dataloader):\n",
    "            optimizer.zero_grad()\n",
    "            y_pred = model(data)\n",
    "            loss = criterion(y_pred, y_target)\n",
    "            if i == 0:\n",
    "                list_loss.append(loss.item())\n",
    "#                     writer.add_scalar(\"Loss/train\", loss, e)\n",
    "            loss.backward()\n",
    "            optimizer.step()\n",
    "\n",
    "        model.eval()\n",
    "        with torch.no_grad():\n",
    "            y_pred = model(X_valid)\n",
    "            valloss = criterion(y_pred, y_valid) \n",
    "            list_valloss.append(valloss.item())\n",
    "#                 writer.add_scalar(\"Loss/validation\", valloss, e)\n",
    "            val_auc = roc_auc_score(y_valid.cpu().numpy(), y_pred.cpu().numpy())\n",
    "\n",
    "#         if (verbose) & (e % 100 == 0) & (fold == 0):\n",
    "        if (verbose) & (e % 100 == 0):\n",
    "            print('E {}: train loss: {} val loss: {} val AUC: {}'.format(\n",
    "                e, loss.item(), valloss.item(), val_auc))\n",
    "\n",
    "#         if fold == 0:\n",
    "#             trial.report(valloss, e)\n",
    "\n",
    "#             # Handle pruning based on the intermediate value.\n",
    "#             if trial.should_prune():\n",
    "#                 raise optuna.exceptions.TrialPruned()\n",
    "        if best_auc < val_auc:\n",
    "            best_auc = val_auc\n",
    "            best_weight = model.state_dict()\n",
    "\n",
    "        early_stopping(-val_auc)\n",
    "\n",
    "        if early_stopping.early_stop:\n",
    "#                 print(\"Early stopping\")\n",
    "            break\n",
    "\n",
    "    list_stopepoch.append(e-patience)\n",
    "    list_weights.append(best_weight)\n",
    "#     print(list_stopepoch)\n",
    "# trial.set_user_attr('best_epoch', int(np.mean(list_stopepoch)-patience))\n",
    "cv += min(list_valloss) / n_splits"
   ]
  },
  {
   "cell_type": "code",
   "execution_count": 26,
   "id": "stretch-sauce",
   "metadata": {},
   "outputs": [],
   "source": [
    "best_epoch = int(np.mean(list_stopepoch))"
   ]
  },
  {
   "cell_type": "raw",
   "id": "smaller-currency",
   "metadata": {},
   "source": [
    "X_train = torch.FloatTensor(ecg_train).to(device)\n",
    "y_train = torch.FloatTensor(target_train).to(device)\n",
    "\n",
    "dataset = MyDataset(X_train, y_train)\n",
    "dataloader = torch.utils.data.DataLoader(dataset, batch_size=100, shuffle=True)\n",
    "\n",
    "    # Generate the model.\n",
    "model = Anomaly_Classifier(input_size=12, num_classes= 1).to(device)\n",
    "#     model = Net1D().cuda()\n",
    "optimizer = getattr(torch.optim, optimizer_name)(model.parameters(), lr=lr)\n",
    "# criterion = nn.BCEWithLogitsLoss()\n",
    "criterion = nn.BCELoss()\n",
    "\n",
    "\n",
    "list_loss = []\n",
    "list_valloss = []\n",
    "for e in range(best_epoch):\n",
    "    for i, (data, y_target) in enumerate(dataloader):\n",
    "        optimizer.zero_grad()\n",
    "        y_pred = model(data)\n",
    "        loss = criterion(y_pred, y_target)\n",
    "        if i == 0:\n",
    "            list_loss.append(loss.item())\n",
    "#                     writer.add_scalar(\"Loss/train\", loss, e)\n",
    "        loss.backward()\n",
    "        optimizer.step()\n",
    "    if (verbose) & (e % 100 == 0):\n",
    "        print('Epoch {}: train loss: {}'.format(e, loss.item()))"
   ]
  },
  {
   "cell_type": "code",
   "execution_count": 27,
   "id": "featured-bonus",
   "metadata": {},
   "outputs": [],
   "source": [
    "for fold in range(n_splits):\n",
    "#         print('FOLD : {}'.format(fold))\n",
    "    X_train = ecg_train[folds[fold][0]] # 学習データの入力データを抽出\n",
    "    y_train = target_train[folds[fold][0]] # 学習データの正解データを抽出\n",
    "    X_valid = ecg_train[folds[fold][1]] # 検証データの入力データを抽出\n",
    "    y_valid = target_train[folds[fold][1]] # 検証データの正解データを抽出"
   ]
  },
  {
   "cell_type": "code",
   "execution_count": 28,
   "id": "exact-beverage",
   "metadata": {},
   "outputs": [
    {
     "name": "stdout",
     "output_type": "stream",
     "text": [
      "0.9271428571428572\n",
      "0.9430952380952381\n",
      "0.9171428571428571\n",
      "0.9011904761904762\n",
      "0.9702380952380952\n"
     ]
    }
   ],
   "source": [
    "preds_train = np.zeros([n_splits, X_train.shape[0]], np.float32)\n",
    "preds_valid = np.zeros([n_splits, X_valid.shape[0]], np.float32)\n",
    "\n",
    "for fold, w in enumerate(list_weights):\n",
    "    X_train = ecg_train[folds[fold][0]] # 学習データの入力データを抽出\n",
    "    y_train = target_train[folds[fold][0]] # 学習データの正解データを抽出\n",
    "    X_valid = ecg_train[folds[fold][1]] # 検証データの入力データを抽出\n",
    "    y_valid = target_train[folds[fold][1]] # 検証データの正解データを抽出\n",
    "    \n",
    "    X_valid = X_valid[:,idx_valid_start:idx_valid_start+input_size,:]\n",
    "    \n",
    "    X_train = torch.FloatTensor(X_train).to(device)\n",
    "#     y_train = torch.FloatTensor(y_train).to(device)\n",
    "    X_valid = torch.FloatTensor(X_valid).to(device)\n",
    "#     y_valid = torch.FloatTensor(y_valid).to(device)\n",
    "    \n",
    "    model = Net1D().to(device)\n",
    "    model.load_state_dict(w)\n",
    "    model.eval()\n",
    "    with torch.no_grad():\n",
    "        y_pred = model(X_valid)\n",
    "        y_pred = F.sigmoid(y_pred).cpu().numpy()\n",
    "        preds_valid[fold] = y_pred\n",
    "        \n",
    "    val_auc = roc_auc_score(y_valid, y_pred)\n",
    "    print(val_auc)"
   ]
  },
  {
   "cell_type": "code",
   "execution_count": 29,
   "id": "practical-homework",
   "metadata": {},
   "outputs": [
    {
     "data": {
      "text/plain": [
       "<AxesSubplot:>"
      ]
     },
     "execution_count": 29,
     "metadata": {},
     "output_type": "execute_result"
    },
    {
     "data": {
      "image/png": "[encoded data removed]",
      "text/plain": [
       "<Figure size 432x288 with 2 Axes>"
      ]
     },
     "metadata": {
      "needs_background": "light"
     },
     "output_type": "display_data"
    }
   ],
   "source": [
    "sns.heatmap(preds_valid)"
   ]
  },
  {
   "cell_type": "code",
   "execution_count": 54,
   "id": "creative-scene",
   "metadata": {},
   "outputs": [
    {
     "name": "stderr",
     "output_type": "stream",
     "text": [
      "100%|██████████| 60/60 [00:04<00:00, 13.96it/s]\n",
      "100%|██████████| 60/60 [00:04<00:00, 14.25it/s]\n",
      "100%|██████████| 60/60 [00:04<00:00, 13.98it/s]\n",
      "100%|██████████| 60/60 [00:04<00:00, 13.77it/s]\n",
      "100%|██████████| 60/60 [00:04<00:00, 13.94it/s]\n"
     ]
    }
   ],
   "source": [
    "preds_test = np.zeros([n_splits, len(df_test)], np.float32) # 予測結果の代入先\n",
    "for fold, w in enumerate(list_weights):\n",
    "#     model = Anomaly_Classifier(input_size=12, num_classes= 1).to(device)\n",
    "    list_test = []\n",
    "\n",
    "    model = Net1D().to(device)\n",
    "    model.load_state_dict(w)\n",
    "    model.eval()\n",
    "    with torch.no_grad():\n",
    "        for i in tqdm(range(0, 800 - input_size, 10)):\n",
    "    #         print(i)\n",
    "            y_test = ecg_test[:,i:i+input_size,:]\n",
    "            print\n",
    "            y_p = model(torch.FloatTensor(y_test).to(device))\n",
    "            y_p = F.sigmoid(y_p).cpu().numpy()\n",
    "            list_test.append(list(y_p))\n",
    "    y_pred = np.array(list_test).mean(axis=0)\n",
    "    preds_test[fold] = y_pred"
   ]
  },
  {
   "cell_type": "code",
   "execution_count": 55,
   "id": "capital-judge",
   "metadata": {},
   "outputs": [
    {
     "data": {
      "text/plain": [
       "<AxesSubplot:>"
      ]
     },
     "execution_count": 55,
     "metadata": {},
     "output_type": "execute_result"
    },
    {
     "data": {
      "image/png": "[encoded data removed]",
      "text/plain": [
       "<Figure size 432x288 with 2 Axes>"
      ]
     },
     "metadata": {
      "needs_background": "light"
     },
     "output_type": "display_data"
    }
   ],
   "source": [
    "sns.heatmap(preds_test)"
   ]
  },
  {
   "cell_type": "code",
   "execution_count": 56,
   "id": "brown-butterfly",
   "metadata": {},
   "outputs": [
    {
     "name": "stdout",
     "output_type": "stream",
     "text": [
      "preds_test_mean.shape: (8000,)\n"
     ]
    },
    {
     "data": {
      "text/html": [
       "<div>\n",
       "<style scoped>\n",
       "    .dataframe tbody tr th:only-of-type {\n",
       "        vertical-align: middle;\n",
       "    }\n",
       "\n",
       "    .dataframe tbody tr th {\n",
       "        vertical-align: top;\n",
       "    }\n",
       "\n",
       "    .dataframe thead th {\n",
       "        text-align: right;\n",
       "    }\n",
       "</style>\n",
       "<table border=\"1\" class=\"dataframe\">\n",
       "  <thead>\n",
       "    <tr style=\"text-align: right;\">\n",
       "      <th></th>\n",
       "      <th>Id</th>\n",
       "      <th>target</th>\n",
       "    </tr>\n",
       "  </thead>\n",
       "  <tbody>\n",
       "    <tr>\n",
       "      <th>0</th>\n",
       "      <td>eee45832964560ae45040cbc95a252e7</td>\n",
       "      <td>0.070326</td>\n",
       "    </tr>\n",
       "    <tr>\n",
       "      <th>1</th>\n",
       "      <td>6a9adde92c964bd844ddeb12bf559130</td>\n",
       "      <td>0.650789</td>\n",
       "    </tr>\n",
       "    <tr>\n",
       "      <th>2</th>\n",
       "      <td>ee1f947df169cbdc8569a6959913c4ef</td>\n",
       "      <td>0.002494</td>\n",
       "    </tr>\n",
       "    <tr>\n",
       "      <th>3</th>\n",
       "      <td>611df0e51c4fcc5fd1a03887b031a2dc</td>\n",
       "      <td>0.078332</td>\n",
       "    </tr>\n",
       "    <tr>\n",
       "      <th>4</th>\n",
       "      <td>2aeae75bd1d6c3ad42574b68d4daf07c</td>\n",
       "      <td>0.414705</td>\n",
       "    </tr>\n",
       "  </tbody>\n",
       "</table>\n",
       "</div>"
      ],
      "text/plain": [
       "                                 Id    target\n",
       "0  eee45832964560ae45040cbc95a252e7  0.070326\n",
       "1  6a9adde92c964bd844ddeb12bf559130  0.650789\n",
       "2  ee1f947df169cbdc8569a6959913c4ef  0.002494\n",
       "3  611df0e51c4fcc5fd1a03887b031a2dc  0.078332\n",
       "4  2aeae75bd1d6c3ad42574b68d4daf07c  0.414705"
      ]
     },
     "execution_count": 56,
     "metadata": {},
     "output_type": "execute_result"
    }
   ],
   "source": [
    "### submitファイルを作成\n",
    "preds_test_mean = preds_test.mean(axis=0) # 各foldのmodelの予測の平均値を最終的な予測結果として採用する\n",
    "print(\"preds_test_mean.shape: {}\".format(preds_test_mean.shape))\n",
    "df_sub[col_target] = preds_test.mean(axis=0) # 推定結果を代入\n",
    "# df_sub[col_target] = preds_test[4]\n",
    "df_sub.to_csv(\"submission.CV5.valid0.1.rl0.0007.Net1D.csv\", index=None) # submitファイルを保存\n",
    "df_sub.head() # 最初の5行を表示"
   ]
  },
  {
   "cell_type": "code",
   "execution_count": 57,
   "id": "ancient-rhythm",
   "metadata": {},
   "outputs": [
    {
     "data": {
      "text/plain": [
       "<AxesSubplot:>"
      ]
     },
     "execution_count": 57,
     "metadata": {},
     "output_type": "execute_result"
    },
    {
     "data": {
      "image/png": "[encoded data removed]",
      "text/plain": [
       "<Figure size 432x288 with 2 Axes>"
      ]
     },
     "metadata": {
      "needs_background": "light"
     },
     "output_type": "display_data"
    }
   ],
   "source": [
    "sns.heatmap(np.array(list_test))"
   ]
  },
  {
   "cell_type": "code",
   "execution_count": 49,
   "id": "turned-damage",
   "metadata": {},
   "outputs": [
    {
     "data": {
      "text/plain": [
       "array([0.58487135, 0.96025616, 0.14961533, ..., 0.38871488, 0.6070465 ,\n",
       "       0.5728578 ], dtype=float32)"
      ]
     },
     "execution_count": 49,
     "metadata": {},
     "output_type": "execute_result"
    }
   ],
   "source": [
    "y_pred"
   ]
  },
  {
   "cell_type": "code",
   "execution_count": null,
   "id": "defined-invite",
   "metadata": {},
   "outputs": [],
   "source": []
  },
  {
   "cell_type": "code",
   "execution_count": null,
   "id": "actual-vertex",
   "metadata": {},
   "outputs": [],
   "source": []
  },
  {
   "cell_type": "code",
   "execution_count": null,
   "id": "adequate-active",
   "metadata": {},
   "outputs": [],
   "source": []
  },
  {
   "cell_type": "raw",
   "id": "minimal-masters",
   "metadata": {},
   "source": [
    "model.eval()\n",
    "with torch.no_grad():\n",
    "    y_pred = model(torch.FloatTensor(ecg_test).to(device))\n",
    "    y_pred = F.softmax(y_pred).cpu().numpy()"
   ]
  },
  {
   "cell_type": "raw",
   "id": "acceptable-interval",
   "metadata": {},
   "source": [
    "# df_sub[col_target] = preds_test.mean(axis=0) # 推定結果を代入\n",
    "df_sub[col_target] = y_pred\n",
    "df_sub.to_csv(\"submission.csv\", index=None) # submitファイルを保存\n",
    "df_sub.head() # 最初の5行を表示"
   ]
  },
  {
   "cell_type": "code",
   "execution_count": 32,
   "id": "polished-stick",
   "metadata": {},
   "outputs": [
    {
     "name": "stdout",
     "output_type": "stream",
     "text": [
      "Functions Ready\n"
     ]
    }
   ],
   "source": [
    "\n",
    "import matplotlib.pyplot as plt \n",
    "import torch.optim as optim\n",
    "import time \n",
    "import sklearn \n",
    "from sklearn.metrics import accuracy_score\n",
    "from sklearn.metrics import classification_report\n",
    "from sklearn.metrics import confusion_matrix\n",
    "import itertools\n",
    "\n",
    "\n",
    "def reset_weights(model):\n",
    "  \"\"\"\n",
    "  model.apply(reset_weights) will reset all the model parameters.\n",
    "  This way the model is not overwhelmed \n",
    "  \n",
    "  \"\"\"\n",
    "  if isinstance(model, nn.Conv1d) or isinstance(model, nn.Linear):\n",
    "      model.reset_parameters()\n",
    "      \n",
    "def calc_accuracy(output,Y):\n",
    "  \n",
    "    # get acc_scores during training \n",
    "    max_vals, max_indices = torch.max(output,1)\n",
    "    train_acc = (max_indices == Y).sum().data.cpu().numpy()/max_indices.size()[0]\n",
    "    return train_acc\n",
    "  \n",
    "def train_model(data_loader, model, criterion,optimizer, n_epochs=100,print_every=10,verbose=True,plot_results=True,validation=True):\n",
    "  \n",
    "  \"\"\"\n",
    "  Model Training Function.\n",
    "  Input:\n",
    "    \n",
    "    Dataloader: {'train':trainloader,'val':validloader} --> If no validation is used set Validation = False & dataloader= {'train':trainloader}\n",
    "    model: model.cuda() if gpu will be used, else cpu\n",
    "    print_every: print every n epochs \n",
    "    verbose: print out results per epoch \n",
    "    plot_results: plot the train and valid loss \n",
    "    validation: is validation set in dataloader\n",
    "  \n",
    "  Output:\n",
    "  \n",
    "    trained classifier \n",
    "  \n",
    "  \"\"\"\n",
    "\n",
    "  losses=[]\n",
    "  start= time.time()\n",
    "  print('Training for {} epochs...\\n'.format(n_epochs))\n",
    "  for epoch in range(n_epochs):\n",
    "      if verbose == True and epoch % print_every== 0:\n",
    "        print('\\n\\nEpoch {}/{}:'.format(epoch+1, n_epochs))\n",
    "        \n",
    "      if validation == True: \n",
    "        evaluation=['train', 'val']\n",
    "      else:\n",
    "        \n",
    "        evaluation=['train']\n",
    "        \n",
    "      # Each epoch has a training and validation phase\n",
    "      for phase in evaluation:\n",
    "          if phase == 'train': \n",
    "              model.train(True)  # Set model to training mode\n",
    "          else:\n",
    "              model.train(False)  # Set model to evaluate mode\n",
    "\n",
    "          running_loss = 0.0\n",
    "\n",
    "          # Iterate over data.\n",
    "          for hb,labels in data_loader[phase]:\n",
    "            for hb_index,label in enumerate(labels):\n",
    "#                 print(hb[hb_index].size(),label.cpu().numpy().shape,Counter(label.cpu().numpy().flatten()))\n",
    "                HB, label = hb[hb_index].unsqueeze(1).cuda(), label.cuda()\n",
    "\n",
    "                # forward + backward + optimize\n",
    "                outputs = model(HB)\n",
    "                acc= calc_accuracy(outputs,label)\n",
    "                loss = criterion(outputs, label)#loss function \n",
    "                # zero the parameter (weight) gradients\n",
    "                optimizer.zero_grad()\n",
    "\n",
    "                # backward + optimize only if in training phase\n",
    "                if phase == 'train':\n",
    "                    loss.backward()\n",
    "                    # update the weights\n",
    "                    optimizer.step()\n",
    "\n",
    "                # print loss statistics\n",
    "                running_loss += loss.item()\n",
    "\n",
    "            losses.append(running_loss) \n",
    "\n",
    "          if verbose == True and epoch % print_every== 0: \n",
    "            print('{} loss: {:.4f} | acc: {:.4f}|'.format(phase, running_loss,acc), end=' ')\n",
    "  if verbose == True:        \n",
    "    print('\\nFinished Training  | Time:{}'.format(time.time()-start))\n",
    "  if plot_results == True:\n",
    "    plt.figure(figsize=(10,10))\n",
    "    plt.plot(losses[0::2],label='train_loss')\n",
    "    if validation == True:\n",
    "      plt.plot(losses[1::2],label='validation_loss')\n",
    "    plt.legend()\n",
    "    plt.xlabel('Epoch')\n",
    "    plt.ylabel('Loss')\n",
    "    plt.draw()\n",
    "  \n",
    "  return model \n",
    "\n",
    "\n",
    "\n",
    "def evaluate(testloader, trained_model,verbose= True):\n",
    "  \"\"\"\n",
    "  Evaluation Metric Platfrom. Feed in the trained model \n",
    "  and test loader data. \n",
    "  \n",
    "  Returns classification metric along with \n",
    "  predictions,truths\n",
    "  \n",
    "  \"\"\"\n",
    "  \n",
    "  truth=[]\n",
    "  preds=[]\n",
    "  for hb,label in testloader:\n",
    "      HB, label = hb.float().unsqueeze(1).cuda(), label.cuda()\n",
    "      outputs = trained_model(HB)\n",
    "      _, predicted = torch.max(outputs, 1)\n",
    "      preds.append(predicted.cpu().numpy().tolist())\n",
    "      truth.append(label.cpu().numpy().tolist())\n",
    "  \n",
    "  preds_flat = [item for sublist in preds for item in sublist]\n",
    "  truth_flat = [item for sublist in truth for item in sublist] \n",
    " \n",
    "\n",
    "  if verbose == True:\n",
    "    print('\\nEvaluating....')\n",
    "    print(\"TEST ACC:\",accuracy_score(truth_flat,preds_flat))\n",
    "    print(classification_report(truth_flat,preds_flat))\n",
    "  \n",
    "  return preds_flat,truth_flat\n",
    "\n",
    "\n",
    "\n",
    "def plot_confusion_matrix(cm, classes,\n",
    "                          normalize=False,\n",
    "                          title='Confusion matrix',\n",
    "                          cmap=plt.cm.Blues):\n",
    "    \"\"\"\n",
    "    This function prints and plots the confusion matrix.\n",
    "    Normalization can be applied by setting `normalize=True`.\n",
    "    \"\"\"\n",
    "    if normalize:\n",
    "        cm = cm.astype('float') / cm.sum(axis=1)[:, np.newaxis]\n",
    "        print(\"Normalized confusion matrix\")\n",
    "    else:\n",
    "        print('Confusion matrix, without normalization')\n",
    "    \n",
    "    plt.figure(figsize=(10,10))\n",
    "    plt.imshow(cm, interpolation='nearest', cmap=cmap)\n",
    "    plt.title(title)\n",
    "    plt.colorbar()\n",
    "    tick_marks = np.arange(len(classes))\n",
    "    plt.xticks(tick_marks, classes, rotation=45)\n",
    "    plt.yticks(tick_marks, classes)\n",
    "\n",
    "    fmt = '.2f' if normalize else 'd'\n",
    "    thresh = cm.max() / 2.\n",
    "    for i, j in itertools.product(range(cm.shape[0]), range(cm.shape[1])):\n",
    "        plt.text(j, i, format(cm[i, j], fmt),\n",
    "                 horizontalalignment=\"center\",\n",
    "                 color=\"white\" if cm[i, j] > thresh else \"black\")\n",
    "\n",
    "    plt.tight_layout()\n",
    "    plt.ylabel('True label')\n",
    "    plt.xlabel('Predicted label')\n",
    "    \n",
    "    \n",
    "    \n",
    "def get_kernel_size(n_h,k_h,n_w,k_w,p_h=0,s_h=1,p_w=0,s_w=1):\n",
    "    \"\"\"\n",
    "    Kernel Measuring Function \n",
    "    \"\"\"\n",
    "    return [int((n_h-k_h+p_h+s_h)/s_h),int((n_w-k_w+p_w+s_w)/s_w)]    \n",
    "    \n",
    "    \n",
    "def variation(n_epochs,num_iters=5):\n",
    "  p=[]\n",
    "  t=[]\n",
    "  accuracy_scores=[]\n",
    "  for i in range(num_iters):\n",
    "    print('\\nModel {}/{}...\\n'.format(i+1,num_iters))\n",
    "    Anomaly_Classifier(input_size=1,num_classes= 5).cuda().apply(reset_weights)\n",
    "    print('Weights Reset')\n",
    "    anom_classifier= Anomaly_Classifier(input_size=1,num_classes= 8).cuda()\n",
    "    criterion = nn.NLLLoss()\n",
    "    optimizer = optim.Adam(anom_classifier.parameters(),lr = 0.001) \n",
    "    trained_classifier= train_model(data_loader=dataloader, model=anom_classifier,\n",
    "                                    criterion = criterion,optimizer = optimizer ,\n",
    "                                    n_epochs=n_epochs,print_every=1,verbose=False,plot_results=False, \n",
    "                                    validation=True)\n",
    "    \n",
    "    preds,truth = evaluate(testloader=testloader, trained_model = trained_classifier,verbose=False)\n",
    "    t.append(truth)\n",
    "    p.append(preds)\n",
    "    print(accuracy_score(truth,preds))\n",
    "    accuracy_scores.append(accuracy_score(truth,preds))\n",
    "  return p,t,accuracy_scores\n",
    "print('Functions Ready')"
   ]
  },
  {
   "cell_type": "code",
   "execution_count": null,
   "id": "operating-kelly",
   "metadata": {},
   "outputs": [],
   "source": [
    "Anomaly_Classifier(input_size=1,num_classes= 2).cuda().apply(reset_weights)\n",
    "print('Weights Reset')\n",
    "anom_classifier= Anomaly_Classifier(input_size=1,num_classes= 2).cuda()\n",
    "criterion = nn.NLLLoss()\n",
    "optimizer = optim.Adam(anom_classifier.parameters(),lr = 0.001) \n",
    "trained_classifier2 = train_model(data_loader=dataloader, model=anom_classifier, criterion = criterion,optimizer = optimizer ,\n",
    "                                            n_epochs=100,print_every=10,verbose=True,plot_results=True, validation=True)\n",
    "preds,truth = evaluate(testloader=testloader, trained_model = trained_classifier2,verbose=True)"
   ]
  }
 ],
 "metadata": {
  "kernelspec": {
   "display_name": "Python 3",
   "language": "python",
   "name": "python3"
  },
  "language_info": {
   "codemirror_mode": {
    "name": "ipython",
    "version": 3
   },
   "file_extension": ".py",
   "mimetype": "text/x-python",
   "name": "python",
   "nbconvert_exporter": "python",
   "pygments_lexer": "ipython3",
   "version": "3.7.9"
  }
 },
 "nbformat": 4,
 "nbformat_minor": 5
}
